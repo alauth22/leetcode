{
 "cells": [
  {
   "cell_type": "code",
   "execution_count": null,
   "id": "c9f4ee87-7065-4f9c-85e3-517b509fc4ed",
   "metadata": {},
   "outputs": [],
   "source": []
  },
  {
   "cell_type": "code",
   "execution_count": 27,
   "id": "13e3e916-acf6-42f9-9e54-9a026437909c",
   "metadata": {},
   "outputs": [
    {
     "data": {
      "text/plain": [
       "'[1, 2, 3, 4]'"
      ]
     },
     "execution_count": 27,
     "metadata": {},
     "output_type": "execute_result"
    }
   ],
   "source": [
    "test = [1,2,3,4]\n",
    "\n",
    "str(test)"
   ]
  },
  {
   "cell_type": "code",
   "execution_count": 30,
   "id": "573c7e2b-2256-4973-a4a5-8cd0786a75c3",
   "metadata": {},
   "outputs": [],
   "source": [
    "test_lst = []\n",
    "\n",
    "for val in test:\n",
    "    test_lst.append(str(val))\n",
    "    "
   ]
  },
  {
   "cell_type": "code",
   "execution_count": 31,
   "id": "e7c461a9-5ac1-4d79-9877-de3b0eeae9a6",
   "metadata": {},
   "outputs": [
    {
     "data": {
      "text/plain": [
       "['1', '2', '3', '4']"
      ]
     },
     "execution_count": 31,
     "metadata": {},
     "output_type": "execute_result"
    }
   ],
   "source": [
    "test_lst"
   ]
  },
  {
   "cell_type": "code",
   "execution_count": 37,
   "id": "e2f12396-4376-4db8-a155-d03c6f25d5e6",
   "metadata": {},
   "outputs": [
    {
     "data": {
      "text/plain": [
       "'1234'"
      ]
     },
     "execution_count": 37,
     "metadata": {},
     "output_type": "execute_result"
    }
   ],
   "source": [
    "x = \"\".join(test_lst)\n",
    "x"
   ]
  },
  {
   "cell_type": "code",
   "execution_count": 39,
   "id": "856161ff-7f79-4e50-b4e5-21ee0301dde5",
   "metadata": {},
   "outputs": [
    {
     "data": {
      "text/plain": [
       "1234"
      ]
     },
     "execution_count": 39,
     "metadata": {},
     "output_type": "execute_result"
    }
   ],
   "source": [
    "y = int(x)\n",
    "y"
   ]
  },
  {
   "cell_type": "code",
   "execution_count": 41,
   "id": "a3706b39-fb37-438c-a34d-cef16045bf6e",
   "metadata": {},
   "outputs": [
    {
     "data": {
      "text/plain": [
       "1235"
      ]
     },
     "execution_count": 41,
     "metadata": {},
     "output_type": "execute_result"
    }
   ],
   "source": [
    "z = y + 1\n",
    "z"
   ]
  },
  {
   "cell_type": "code",
   "execution_count": 49,
   "id": "83e228ae-a3e9-4bbc-b5da-7957e3d0c166",
   "metadata": {},
   "outputs": [
    {
     "name": "stdout",
     "output_type": "stream",
     "text": [
      "1\n",
      "2\n",
      "3\n",
      "5\n"
     ]
    },
    {
     "data": {
      "text/plain": [
       "[1, 2, 3, 5]"
      ]
     },
     "execution_count": 49,
     "metadata": {},
     "output_type": "execute_result"
    }
   ],
   "source": [
    "test_2 = str(z)\n",
    "test_3 = []\n",
    "for val in test_2:\n",
    "    print(val)\n",
    "    test_3.append(int(val))\n",
    "test_3"
   ]
  },
  {
   "cell_type": "code",
   "execution_count": 50,
   "id": "7ee6e847-b520-4e3d-8caa-4cf5a2ead1f3",
   "metadata": {},
   "outputs": [],
   "source": [
    "def plusOne(test_list):\n",
    "    temp_list = []\n",
    "    final_list = []\n",
    "    \n",
    "    for val in test_list:\n",
    "        temp_list.append(str(val))\n",
    "        \n",
    "    x = \"\".join(temp_list)\n",
    "    y = int(x)\n",
    "    z = y + 1\n",
    "    \n",
    "    z_holder = str(z)\n",
    "    for num in z_holder:\n",
    "        final_list.append(int(num))\n",
    "    \n",
    "    return final_list \n",
    "    \n",
    "    "
   ]
  },
  {
   "cell_type": "code",
   "execution_count": 51,
   "id": "8475d412-174e-4db1-a1d5-b324554378d7",
   "metadata": {},
   "outputs": [
    {
     "data": {
      "text/plain": [
       "[1, 2, 4]"
      ]
     },
     "execution_count": 51,
     "metadata": {},
     "output_type": "execute_result"
    }
   ],
   "source": [
    "plusOne([1,2,3])"
   ]
  },
  {
   "cell_type": "code",
   "execution_count": 52,
   "id": "387a0ca3-67aa-4247-99b2-5a971e103b76",
   "metadata": {},
   "outputs": [
    {
     "data": {
      "text/plain": [
       "[4, 3, 2, 2]"
      ]
     },
     "execution_count": 52,
     "metadata": {},
     "output_type": "execute_result"
    }
   ],
   "source": [
    "plusOne([4,3,2,1])"
   ]
  },
  {
   "cell_type": "code",
   "execution_count": 53,
   "id": "69210f09-9b3f-4699-bdc9-d47335be8411",
   "metadata": {},
   "outputs": [
    {
     "data": {
      "text/plain": [
       "[1, 0]"
      ]
     },
     "execution_count": 53,
     "metadata": {},
     "output_type": "execute_result"
    }
   ],
   "source": [
    "plusOne([9])"
   ]
  },
  {
   "cell_type": "code",
   "execution_count": null,
   "id": "fadeca39-cfd6-439b-b022-18dbdb710f48",
   "metadata": {},
   "outputs": [],
   "source": []
  },
  {
   "cell_type": "code",
   "execution_count": null,
   "id": "ca88587d-ca46-4a0d-9b76-34cf541515dc",
   "metadata": {},
   "outputs": [],
   "source": []
  }
 ],
 "metadata": {
  "kernelspec": {
   "display_name": "Python 3 (ipykernel)",
   "language": "python",
   "name": "python3"
  },
  "language_info": {
   "codemirror_mode": {
    "name": "ipython",
    "version": 3
   },
   "file_extension": ".py",
   "mimetype": "text/x-python",
   "name": "python",
   "nbconvert_exporter": "python",
   "pygments_lexer": "ipython3",
   "version": "3.7.8"
  }
 },
 "nbformat": 4,
 "nbformat_minor": 5
}
