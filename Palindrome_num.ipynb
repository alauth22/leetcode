{
 "cells": [
  {
   "cell_type": "code",
   "execution_count": null,
   "id": "9fe778de-6ceb-4a15-83b8-db00e0e8a1d2",
   "metadata": {},
   "outputs": [],
   "source": []
  },
  {
   "cell_type": "code",
   "execution_count": 11,
   "id": "accff9eb-6403-417c-805b-f16957ce7675",
   "metadata": {},
   "outputs": [],
   "source": [
    "def palindrome_num(target):\n",
    "    '''\n",
    "    INPUT\n",
    "    target: int value \n",
    "    \n",
    "    OUTPUT\n",
    "    boolean: True if target is a palindrome, False if target is not a palindrome \n",
    "    \n",
    "    '''\n",
    "    #need to convert target int to a string \n",
    "    target_str = str(target)\n",
    "    target_rev = target_str[::-1]\n",
    "    \n",
    "    if target_str == target_rev:\n",
    "        return True \n",
    "    else:\n",
    "        return False\n",
    "    \n",
    "    return \n",
    "    "
   ]
  },
  {
   "cell_type": "code",
   "execution_count": 12,
   "id": "1c95cb79-e019-4f08-9b02-148064ed6cda",
   "metadata": {},
   "outputs": [
    {
     "data": {
      "text/plain": [
       "False"
      ]
     },
     "execution_count": 12,
     "metadata": {},
     "output_type": "execute_result"
    }
   ],
   "source": [
    "palindrome_num(123)"
   ]
  },
  {
   "cell_type": "code",
   "execution_count": 13,
   "id": "6eff4d0b-f80a-4e4c-a02d-a781d3be5c35",
   "metadata": {},
   "outputs": [
    {
     "data": {
      "text/plain": [
       "True"
      ]
     },
     "execution_count": 13,
     "metadata": {},
     "output_type": "execute_result"
    }
   ],
   "source": [
    "palindrome_num(121)"
   ]
  },
  {
   "cell_type": "code",
   "execution_count": 10,
   "id": "00df7d82-5401-41c1-af59-b48678075fae",
   "metadata": {},
   "outputs": [
    {
     "name": "stdout",
     "output_type": "stream",
     "text": [
      "123\n"
     ]
    },
    {
     "data": {
      "text/plain": [
       "'321'"
      ]
     },
     "execution_count": 10,
     "metadata": {},
     "output_type": "execute_result"
    }
   ],
   "source": [
    "test = 123\n",
    "\n",
    "see = str(test)\n",
    "print(see)\n",
    "type(see)\n",
    "\n",
    "see = see[::-1]\n",
    "see\n",
    "\n",
    "# see = test[::-1]"
   ]
  },
  {
   "cell_type": "code",
   "execution_count": null,
   "id": "6a556db3-6f0f-4d1e-b87c-1af1f96109a9",
   "metadata": {},
   "outputs": [],
   "source": []
  }
 ],
 "metadata": {
  "kernelspec": {
   "display_name": "Python 3 (ipykernel)",
   "language": "python",
   "name": "python3"
  },
  "language_info": {
   "codemirror_mode": {
    "name": "ipython",
    "version": 3
   },
   "file_extension": ".py",
   "mimetype": "text/x-python",
   "name": "python",
   "nbconvert_exporter": "python",
   "pygments_lexer": "ipython3",
   "version": "3.7.8"
  }
 },
 "nbformat": 4,
 "nbformat_minor": 5
}
