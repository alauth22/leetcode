{
 "cells": [
  {
   "cell_type": "code",
   "execution_count": 20,
   "id": "f303c8ff-d89c-4639-a742-b9cc1932b804",
   "metadata": {},
   "outputs": [],
   "source": [
    "def palindrome_true(s):\n",
    "   \n",
    "    #remove non-alphanumeric characters\n",
    "    string_target = ''.join(filter(str.isalnum, s))\n",
    "    #remove blank spaces \n",
    "    string_target_02 = ''.join(string_target.split())\n",
    "    #convert upperclass to lowerclass \n",
    "    string_target_03 = string_target_02.lower()\n",
    "    \n",
    "    string_fwd = string_target_03\n",
    "    string_rev = string_target_03[::-1]\n",
    "    \n",
    "    if string_fwd == string_rev:\n",
    "        return True \n",
    "    else:\n",
    "        return False \n",
    "    \n",
    "    return \n",
    "    "
   ]
  },
  {
   "cell_type": "code",
   "execution_count": 21,
   "id": "2d36d9c6-1697-43b9-988c-66868c3f8511",
   "metadata": {},
   "outputs": [
    {
     "data": {
      "text/plain": [
       "True"
      ]
     },
     "execution_count": 21,
     "metadata": {},
     "output_type": "execute_result"
    }
   ],
   "source": [
    "palindrome_true(\"A man, a plan, a canal: Panama\")"
   ]
  },
  {
   "cell_type": "code",
   "execution_count": 22,
   "id": "d35cd5b5-c679-47f5-9c4e-401e5de13a7c",
   "metadata": {},
   "outputs": [
    {
     "data": {
      "text/plain": [
       "False"
      ]
     },
     "execution_count": 22,
     "metadata": {},
     "output_type": "execute_result"
    }
   ],
   "source": [
    "palindrome_true(\"race a car\")"
   ]
  },
  {
   "cell_type": "code",
   "execution_count": 23,
   "id": "e38d13a3-5575-4195-beec-db84ef1e6186",
   "metadata": {},
   "outputs": [
    {
     "data": {
      "text/plain": [
       "True"
      ]
     },
     "execution_count": 23,
     "metadata": {},
     "output_type": "execute_result"
    }
   ],
   "source": [
    "palindrome_true(\" \")"
   ]
  },
  {
   "cell_type": "code",
   "execution_count": null,
   "id": "2351d90d-6b3c-4d14-a26c-7d6225c252bf",
   "metadata": {},
   "outputs": [],
   "source": []
  },
  {
   "cell_type": "code",
   "execution_count": null,
   "id": "e7d2f1f8-8177-4cf3-b0c3-d7bea93e8527",
   "metadata": {},
   "outputs": [],
   "source": []
  },
  {
   "cell_type": "code",
   "execution_count": 6,
   "id": "68334a17-2050-4fcf-b445-cb1eadf6db3f",
   "metadata": {},
   "outputs": [
    {
     "name": "stdout",
     "output_type": "stream",
     "text": [
      "alphanumeric123\n"
     ]
    }
   ],
   "source": [
    "string_value = \"alphanumeric@123__\"\n",
    "\n",
    "string_final = ''.join(filter(str.isalnum, string_value))\n",
    "print(string_final)"
   ]
  },
  {
   "cell_type": "code",
   "execution_count": 3,
   "id": "cc2ee4bb-1d1b-4d2e-bed6-4f26bd5bb951",
   "metadata": {},
   "outputs": [
    {
     "name": "stdout",
     "output_type": "stream",
     "text": [
      "alphanumeric123\n"
     ]
    }
   ],
   "source": [
    "string_value = \"alphanumeric@123__\"\n",
    "s = ''.join(filter(str.isalnum, string_value))\n",
    "print(s)"
   ]
  },
  {
   "cell_type": "code",
   "execution_count": 16,
   "id": "416a729e-2870-4309-9100-7f2fdeffaf59",
   "metadata": {},
   "outputs": [
    {
     "data": {
      "text/plain": [
       "'hiamelia'"
      ]
     },
     "execution_count": 16,
     "metadata": {},
     "output_type": "execute_result"
    }
   ],
   "source": [
    "test = \"Hi Amelia\"\n",
    "test_02 = test.lower()\n",
    "test_02\n",
    "test_03 = ''.join(test_02.split())\n",
    "test_03"
   ]
  },
  {
   "cell_type": "code",
   "execution_count": null,
   "id": "13d5b4ba-f393-4625-b962-3f28989a8791",
   "metadata": {},
   "outputs": [],
   "source": []
  },
  {
   "cell_type": "code",
   "execution_count": null,
   "id": "e9e31396-b807-46fb-8dfd-62f38c1131d6",
   "metadata": {},
   "outputs": [],
   "source": []
  },
  {
   "cell_type": "code",
   "execution_count": null,
   "id": "a3c8d1a1-04dc-4001-9fab-9537c0dad054",
   "metadata": {},
   "outputs": [],
   "source": []
  }
 ],
 "metadata": {
  "kernelspec": {
   "display_name": "Python 3 (ipykernel)",
   "language": "python",
   "name": "python3"
  },
  "language_info": {
   "codemirror_mode": {
    "name": "ipython",
    "version": 3
   },
   "file_extension": ".py",
   "mimetype": "text/x-python",
   "name": "python",
   "nbconvert_exporter": "python",
   "pygments_lexer": "ipython3",
   "version": "3.7.8"
  }
 },
 "nbformat": 4,
 "nbformat_minor": 5
}
