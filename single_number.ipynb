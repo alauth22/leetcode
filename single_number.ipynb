{
 "cells": [
  {
   "cell_type": "code",
   "execution_count": 1,
   "id": "c4c91391-7d5f-486d-9ef4-3d1a725895e5",
   "metadata": {},
   "outputs": [],
   "source": [
    "from collections import Counter"
   ]
  },
  {
   "cell_type": "code",
   "execution_count": 7,
   "id": "1f361424-a78e-4b84-ae60-a45cb87bc823",
   "metadata": {},
   "outputs": [
    {
     "name": "stdout",
     "output_type": "stream",
     "text": [
      "Counter({1: 2, 2: 2, 4: 1})\n"
     ]
    }
   ],
   "source": [
    "nums = [4,1,2,1,2]\n",
    "dict_test = Counter(nums)\n",
    "print(dict_test)"
   ]
  },
  {
   "cell_type": "code",
   "execution_count": null,
   "id": "3d3f3a32-3f93-4a24-af34-248918f62d49",
   "metadata": {},
   "outputs": [],
   "source": []
  },
  {
   "cell_type": "code",
   "execution_count": null,
   "id": "d2fdf410-ddc1-47fb-a7a5-dacf89e4a305",
   "metadata": {},
   "outputs": [],
   "source": []
  },
  {
   "cell_type": "code",
   "execution_count": 20,
   "id": "ebe1aed0-7cd3-4787-abf3-f4eec1ad110a",
   "metadata": {},
   "outputs": [
    {
     "name": "stdout",
     "output_type": "stream",
     "text": [
      "Counter({4: 3, 1: 2, 2: 2, 5: 2, 3: 1})\n",
      "3\n"
     ]
    }
   ],
   "source": [
    "from collections import Counter\n",
    "test_lst = [1,1,2,2,3,4,4,4,5,5]\n",
    "test_dict = Counter(test_lst)\n",
    "print(test_dict)\n",
    "\n",
    "for key in test_dict.keys():\n",
    "    # print(key)\n",
    "    # print(test_dict[key])\n",
    "    if test_dict[key] == 1:\n",
    "        print(key)\n",
    "    \n"
   ]
  },
  {
   "cell_type": "code",
   "execution_count": null,
   "id": "a3224280-e0ba-4b25-bca9-c2ed531a8ceb",
   "metadata": {},
   "outputs": [],
   "source": []
  },
  {
   "cell_type": "code",
   "execution_count": 21,
   "id": "16973df1-273d-4e0b-8344-d0f3d9add637",
   "metadata": {},
   "outputs": [],
   "source": [
    "def single_number(nums):\n",
    "    #import the counter into function \n",
    "    from collections import Counter\n",
    "    \n",
    "    #return a dictionary form of the nums list\n",
    "    #keys will be the numbers in the list \n",
    "    #values will be the number of occurences of each value in the keys. \n",
    "    nums_dict = Counter(nums)\n",
    "    for key in nums_dict.keys():\n",
    "        if nums_dict[key] == 1:\n",
    "            return key\n",
    "        \n",
    "    return \n",
    "    "
   ]
  },
  {
   "cell_type": "code",
   "execution_count": 22,
   "id": "7e1b2842-b3d2-4bb0-a860-67ed8750e6d0",
   "metadata": {},
   "outputs": [
    {
     "data": {
      "text/plain": [
       "4"
      ]
     },
     "execution_count": 22,
     "metadata": {},
     "output_type": "execute_result"
    }
   ],
   "source": [
    "single_number([4,1,2,1,2])"
   ]
  },
  {
   "cell_type": "code",
   "execution_count": null,
   "id": "981fa15c-10bf-4589-820e-9fbdc44837ef",
   "metadata": {},
   "outputs": [],
   "source": []
  },
  {
   "cell_type": "code",
   "execution_count": null,
   "id": "e45a8ab7-6496-4ab8-81a5-b947403c4f2a",
   "metadata": {},
   "outputs": [],
   "source": []
  },
  {
   "cell_type": "code",
   "execution_count": null,
   "id": "94f8f89e-661b-4146-867d-caa51ef13bef",
   "metadata": {},
   "outputs": [],
   "source": []
  }
 ],
 "metadata": {
  "kernelspec": {
   "display_name": "Python 3 (ipykernel)",
   "language": "python",
   "name": "python3"
  },
  "language_info": {
   "codemirror_mode": {
    "name": "ipython",
    "version": 3
   },
   "file_extension": ".py",
   "mimetype": "text/x-python",
   "name": "python",
   "nbconvert_exporter": "python",
   "pygments_lexer": "ipython3",
   "version": "3.7.8"
  }
 },
 "nbformat": 4,
 "nbformat_minor": 5
}
