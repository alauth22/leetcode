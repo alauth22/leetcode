{
 "cells": [
  {
   "cell_type": "code",
   "execution_count": null,
   "id": "bff7498c-17b5-493c-8de3-e4fb951dec35",
   "metadata": {},
   "outputs": [],
   "source": []
  },
  {
   "cell_type": "code",
   "execution_count": null,
   "id": "16d0f0ae-a738-4f80-8079-64f19e7eee23",
   "metadata": {},
   "outputs": [],
   "source": [
    "#add digits algorithm \n",
    "\n",
    "\n"
   ]
  },
  {
   "cell_type": "code",
   "execution_count": 2,
   "id": "c1f29c44-a1b7-45f1-b20d-7c3dcdeb6aa6",
   "metadata": {},
   "outputs": [],
   "source": [
    "num = 38"
   ]
  },
  {
   "cell_type": "code",
   "execution_count": 14,
   "id": "d8342fa5-e8a8-4cc9-a1e5-b4bedc0a8469",
   "metadata": {},
   "outputs": [
    {
     "name": "stdout",
     "output_type": "stream",
     "text": [
      "88\n"
     ]
    }
   ],
   "source": [
    "test = str(num)\n",
    "# test\n",
    "\n",
    "for val in test:\n",
    "    test = val + val\n",
    "print(test)"
   ]
  },
  {
   "cell_type": "code",
   "execution_count": null,
   "id": "d66dd497-e8c4-4216-9496-5ccf48d86c02",
   "metadata": {},
   "outputs": [],
   "source": []
  },
  {
   "cell_type": "code",
   "execution_count": null,
   "id": "099ba608-13ee-41d1-84d9-109c85db5075",
   "metadata": {},
   "outputs": [],
   "source": []
  }
 ],
 "metadata": {
  "kernelspec": {
   "display_name": "Python 3 (ipykernel)",
   "language": "python",
   "name": "python3"
  },
  "language_info": {
   "codemirror_mode": {
    "name": "ipython",
    "version": 3
   },
   "file_extension": ".py",
   "mimetype": "text/x-python",
   "name": "python",
   "nbconvert_exporter": "python",
   "pygments_lexer": "ipython3",
   "version": "3.7.8"
  }
 },
 "nbformat": 4,
 "nbformat_minor": 5
}
