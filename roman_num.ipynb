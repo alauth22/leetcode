{
 "cells": [
  {
   "cell_type": "code",
   "execution_count": null,
   "id": "429485e7-3f6c-48e4-be8b-caf3faa2ca9d",
   "metadata": {},
   "outputs": [],
   "source": []
  },
  {
   "cell_type": "code",
   "execution_count": 39,
   "id": "dc82e0d0-9810-4929-9793-d53032ca9c0e",
   "metadata": {},
   "outputs": [],
   "source": [
    "def roman_num_conv(string):\n",
    "    '''\n",
    "    Task: convert the roman numerical value into an integer. \n",
    "    \n",
    "    Input: \n",
    "    string: roman numerical value as a string. \n",
    "    \n",
    "    Output:\n",
    "    int_value: equivalent int value. \n",
    "    '''\n",
    "    #create a dictionary \n",
    "    roman_dict = {\"I\": 1, \"V\": 5, \"X\": 10, \"L\": 50, \"C\": 100, \"D\": 500, \"M\": 1000}\n",
    "    final_result = 0 \n",
    "        \n",
    "    for index in range(len(string)):\n",
    "        if index + 1 < len(string) and roman_dict[string[index]] < roman_dict[string[index + 1]]:\n",
    "            #we want to subtract small number from the result. \n",
    "            final_result -= roman_dict[string[index]]\n",
    "        else:\n",
    "            #else if the leftmost number if larger than the right, then we just want to add it. \n",
    "            final_result += roman_dict[string[index]]\n",
    "\n",
    "    return final_result\n",
    "    "
   ]
  },
  {
   "cell_type": "code",
   "execution_count": 40,
   "id": "30a2d59b-5701-4ce8-9560-58601a922276",
   "metadata": {},
   "outputs": [
    {
     "data": {
      "text/plain": [
       "4"
      ]
     },
     "execution_count": 40,
     "metadata": {},
     "output_type": "execute_result"
    }
   ],
   "source": [
    "roman_num_conv(\"IV\")"
   ]
  },
  {
   "cell_type": "code",
   "execution_count": null,
   "id": "1db1df48-08d4-477b-b7fa-7029d3888182",
   "metadata": {},
   "outputs": [],
   "source": []
  },
  {
   "cell_type": "code",
   "execution_count": 74,
   "id": "1ced14dd-f569-43dd-a291-689b78a2435d",
   "metadata": {},
   "outputs": [],
   "source": [
    "def test_roman(string):\n",
    "    # string = \"III\"\n",
    "    #should add this to the empty list so that you can sum up the list at the end. \n",
    "    final_list = []\n",
    "    \n",
    "    num_dict = {\"I\": 1, \"V\": 5, \"X\": 10, \"L\": 50, \"C\": 100, \"D\": 500, \"M\": 1000}\n",
    "\n",
    "    for index in range(len(string) - 1):\n",
    "        if string[index] == \"I\":\n",
    "            if string[index + 1] == \"V\":\n",
    "                final_list.append(num_dict[\"V\"] - num_dict[\"I\"])\n",
    "            elif string[index + 1] == \"X\":\n",
    "                final_list.append(num_dict[\"X\"] - num_dict[\"I\"])\n",
    "            else:\n",
    "                final_list.append(num_dict[\"I\"])\n",
    "                \n",
    "        elif string[index] == \"X\":\n",
    "            if string[index + 1] == \"L\":\n",
    "                final_list.append(num_dict[\"L\"] - num_dict[\"X\"])\n",
    "            elif string[index + 1] == \"C\":\n",
    "                final_list.append(num_dict[\"C\"] - num_dict[\"X\"])\n",
    "            else:\n",
    "                final_list.append(num_dict[\"X\"])\n",
    "                \n",
    "        elif string[index] == \"C\":\n",
    "            if string[index + 1] == \"D\":\n",
    "                final_list.append(num_dict[\"D\"] - num_dict[\"C\"])\n",
    "            elif string[index + 1] == \"M\":\n",
    "                final_list.append(num_dict[\"M\"] - num_dict[\"C\"]) \n",
    "                \n",
    "        elif string[index] == \"V\":\n",
    "            final_list.append(num_dict[\"V\"])\n",
    "            \n",
    "        elif string[index] == \"L\":\n",
    "            final_list.append(num_dict[\"L\"])\n",
    "            \n",
    "        elif string[index] == \"D\":\n",
    "            final_list.append(num_dict[\"D\"])\n",
    "            \n",
    "        elif string[index] == \"M\":\n",
    "            final_list.append(num_dict[\"M\"])       \n",
    "        \n",
    "        else:\n",
    "            print(\"Sorry, something went wrong!\")\n",
    "\n",
    "    int_conv = sum(final_list)\n",
    "    return int_conv\n"
   ]
  },
  {
   "cell_type": "code",
   "execution_count": 40,
   "id": "07ebb9c4-cdcb-49f5-bb32-99f522fcf066",
   "metadata": {},
   "outputs": [
    {
     "name": "stdout",
     "output_type": "stream",
     "text": [
      "4\n"
     ]
    }
   ],
   "source": [
    "test = []\n",
    "string = \"IV\"\n",
    "\n",
    "I = 1\n",
    "V = 5\n",
    "\n",
    "for index, char in enumerate(string):\n",
    "    if string[index] == \"I\":\n",
    "        if string[index + 1] == \"V\":\n",
    "            test.append(V - I)\n",
    "            test = sum(test)      \n",
    "print(test)\n",
    "             "
   ]
  },
  {
   "cell_type": "code",
   "execution_count": 60,
   "id": "c43072fc-74e9-4dfe-923e-a3296be5c0db",
   "metadata": {},
   "outputs": [
    {
     "name": "stdout",
     "output_type": "stream",
     "text": [
      "no\n"
     ]
    }
   ],
   "source": [
    "test = \"alyssa\"\n",
    "\n",
    "for index in range(len(test) - 1):\n",
    "    if test[index] == \"a\":\n",
    "        if test[index + 1] == \"m\":\n",
    "            print(\"yes\")\n",
    "        else:\n",
    "            print(\"no\")"
   ]
  },
  {
   "cell_type": "code",
   "execution_count": 115,
   "id": "9a2a4788-0f30-45a9-932f-a3f88ae88209",
   "metadata": {},
   "outputs": [
    {
     "name": "stdout",
     "output_type": "stream",
     "text": [
      "5\n"
     ]
    }
   ],
   "source": [
    "string = \"IV\"\n",
    "final_list = []    \n",
    "num_dict = {\"I\": 1, \"V\": 5, \"X\": 10, \"L\": 50, \"C\": 100, \"D\": 500, \"M\": 1000}\n",
    "\n",
    "for index, char in enumerate(string[::-1]):\n",
    "    # final_list.append(num_dict[\"I\"])\n",
    "    if string[index] == \"I\":\n",
    "        final_list.append(num_dict[\"I\"])\n",
    "        \n",
    "        if string[index - 1] == \"V\":\n",
    "            final_list.append(num_dict[\"V\"] - num_dict[\"I\"])\n",
    "            # print(final_list)\n",
    "        elif string[index - 1] == \"X\":\n",
    "            final_list.append(num_dict[\"X\"] - num_dict[\"I\"])\n",
    "            # print(final_list)\n",
    "        else:\n",
    "            final_list.append(num_dict[\"I\"])\n",
    "            print(final_list)\n",
    "            \n",
    "final_list = sum(final_list)\n",
    "print(final_list)"
   ]
  },
  {
   "cell_type": "code",
   "execution_count": null,
   "id": "2a0c220b-9270-44be-9c75-0415e124ab3e",
   "metadata": {},
   "outputs": [],
   "source": []
  },
  {
   "cell_type": "code",
   "execution_count": null,
   "id": "0eb21cda-5755-4803-9e79-a8bd8e4aff6d",
   "metadata": {},
   "outputs": [],
   "source": []
  }
 ],
 "metadata": {
  "kernelspec": {
   "display_name": "Python 3 (ipykernel)",
   "language": "python",
   "name": "python3"
  },
  "language_info": {
   "codemirror_mode": {
    "name": "ipython",
    "version": 3
   },
   "file_extension": ".py",
   "mimetype": "text/x-python",
   "name": "python",
   "nbconvert_exporter": "python",
   "pygments_lexer": "ipython3",
   "version": "3.7.8"
  }
 },
 "nbformat": 4,
 "nbformat_minor": 5
}
