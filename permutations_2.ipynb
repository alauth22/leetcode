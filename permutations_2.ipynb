{
 "cells": [
  {
   "cell_type": "code",
   "execution_count": 44,
   "id": "f0da8014-75dd-474b-bf88-851aae6106f5",
   "metadata": {},
   "outputs": [],
   "source": [
    "def permute(nums):\n",
    "    '''\n",
    "    INPUT: nums - list: list of integers to be used for permutations. In this case, the list \n",
    "           will contain duplicate numbers \n",
    "\n",
    "    OUTPUT: list of lists: all permutations of the provided nums list, with any duplicates subtracted. \n",
    "    \n",
    "    '''\n",
    "    from itertools import permutations\n",
    "    \n",
    "    all_comb = []\n",
    "    lst_object = permutations(nums)\n",
    "    for i in lst_object:\n",
    "        #will change each object into a list.\n",
    "        x = list(i)\n",
    "        #add it to the main empty list.\n",
    "        all_comb.append(x)\n",
    "        \n",
    "    #now need to delete all replicate lists within the main list. \n",
    "    final_lst = []\n",
    "    for j in all_comb:\n",
    "        #if j is not already in the final list, then add it. If it is already in the list, then don't add it. \n",
    "        if j not in final_lst:\n",
    "            final_lst.append(j)\n",
    "            \n",
    "    return final_lst\n",
    "    "
   ]
  },
  {
   "cell_type": "code",
   "execution_count": 45,
   "id": "7bc8601a-d0c0-4936-a798-3c809672ed80",
   "metadata": {},
   "outputs": [
    {
     "data": {
      "text/plain": [
       "[[1, 1, 2], [1, 2, 1], [2, 1, 1]]"
      ]
     },
     "execution_count": 45,
     "metadata": {},
     "output_type": "execute_result"
    }
   ],
   "source": [
    "permute([1,1,2])"
   ]
  },
  {
   "cell_type": "code",
   "execution_count": 46,
   "id": "aa61f78f-4693-46b4-8ed4-107a325f2475",
   "metadata": {},
   "outputs": [
    {
     "data": {
      "text/plain": [
       "[[1, 2, 3], [1, 3, 2], [2, 1, 3], [2, 3, 1], [3, 1, 2], [3, 2, 1]]"
      ]
     },
     "execution_count": 46,
     "metadata": {},
     "output_type": "execute_result"
    }
   ],
   "source": [
    "permute([1,2,3])"
   ]
  },
  {
   "cell_type": "code",
   "execution_count": 47,
   "id": "fac5a602-9e96-496c-99c6-c2d0ffec6980",
   "metadata": {},
   "outputs": [
    {
     "data": {
      "text/plain": [
       "[[22, 3, 22], [22, 22, 3], [3, 22, 22]]"
      ]
     },
     "execution_count": 47,
     "metadata": {},
     "output_type": "execute_result"
    }
   ],
   "source": [
    "permute([22,3,22])"
   ]
  },
  {
   "cell_type": "code",
   "execution_count": null,
   "id": "159d7f79-76e8-4f1e-8418-f64be43386a4",
   "metadata": {},
   "outputs": [],
   "source": []
  },
  {
   "cell_type": "code",
   "execution_count": 41,
   "id": "0af8e3e8-0b90-4765-8702-07a3c49ea949",
   "metadata": {},
   "outputs": [
    {
     "name": "stdout",
     "output_type": "stream",
     "text": [
      "[[1, 1, 2], [1, 2, 1], [2, 1, 1]]\n"
     ]
    }
   ],
   "source": [
    "from itertools import permutations\n",
    "    \n",
    "all_comb = []\n",
    "lst_object = permutations([1,1,2])\n",
    "# print(lst_object)\n",
    "for i in lst_object:\n",
    "    x = list(i)\n",
    "    all_comb.append(x)\n",
    "# print(all_comb)\n",
    "\n",
    "final = []\n",
    "for x in all_comb:\n",
    "    # print(x)\n",
    "    if x not in final:\n",
    "        final.append(x)\n",
    "print(final)"
   ]
  },
  {
   "cell_type": "code",
   "execution_count": null,
   "id": "6b1cfd4f-226b-4268-bbda-246aa27eec9d",
   "metadata": {},
   "outputs": [],
   "source": []
  },
  {
   "cell_type": "code",
   "execution_count": null,
   "id": "1be73b31-c306-4848-81e5-8e0aa7e2527a",
   "metadata": {},
   "outputs": [],
   "source": []
  },
  {
   "cell_type": "code",
   "execution_count": null,
   "id": "3cefd4cd-cee0-4bb6-9b98-f1c03f8076f9",
   "metadata": {},
   "outputs": [],
   "source": []
  }
 ],
 "metadata": {
  "kernelspec": {
   "display_name": "Python 3 (ipykernel)",
   "language": "python",
   "name": "python3"
  },
  "language_info": {
   "codemirror_mode": {
    "name": "ipython",
    "version": 3
   },
   "file_extension": ".py",
   "mimetype": "text/x-python",
   "name": "python",
   "nbconvert_exporter": "python",
   "pygments_lexer": "ipython3",
   "version": "3.7.8"
  }
 },
 "nbformat": 4,
 "nbformat_minor": 5
}
