{
 "cells": [
  {
   "cell_type": "code",
   "execution_count": null,
   "id": "37b26fe9-d02a-4c4d-9cac-5c0e7d0693ff",
   "metadata": {},
   "outputs": [],
   "source": []
  },
  {
   "cell_type": "code",
   "execution_count": 1,
   "id": "eeec4565-51fe-4a4d-9aba-f3ee4f5111ab",
   "metadata": {},
   "outputs": [],
   "source": [
    "def two_sum(lst, target):\n",
    "    '''\n",
    "    INPUT\n",
    "    num_list: list of integers\n",
    "    target: int of interest for the sum of any number in the list. \n",
    "    \n",
    "    OUTPUT\n",
    "    target_index: index of ints whose sum equals target. \n",
    "    '''\n",
    "    \n",
    "    #empty dictionary \n",
    "    hash_map = {}\n",
    "    #every previous value will be put into this dictioinary \n",
    "    #value : index \n",
    "    \n",
    "    for i, char in enumerate(lst):\n",
    "        test = target - char\n",
    "        if test in hash_map:\n",
    "            #return the indexes for the test in hash_map and char, which is just i\n",
    "            return [hash_map[test], i]\n",
    "        else:\n",
    "            #need to update our hash_map if that character is not in there already. \n",
    "            #only updating the dictionary with the chars in the nums list and their respective indecies. \n",
    "            hash_map[char] = i  \n",
    "    return \n",
    "    \n",
    "    "
   ]
  },
  {
   "cell_type": "code",
   "execution_count": 2,
   "id": "21b49cc6-dfd3-4496-9d6c-5008d0ee06c4",
   "metadata": {},
   "outputs": [
    {
     "data": {
      "text/plain": [
       "[1, 2]"
      ]
     },
     "execution_count": 2,
     "metadata": {},
     "output_type": "execute_result"
    }
   ],
   "source": [
    "two_sum([3,2,4], 6)"
   ]
  },
  {
   "cell_type": "code",
   "execution_count": 3,
   "id": "7cabe7a0-01e1-4af0-87ef-ece846f97b75",
   "metadata": {},
   "outputs": [
    {
     "data": {
      "text/plain": [
       "[0, 1]"
      ]
     },
     "execution_count": 3,
     "metadata": {},
     "output_type": "execute_result"
    }
   ],
   "source": [
    "two_sum([2,7,11,15], 9)"
   ]
  },
  {
   "cell_type": "code",
   "execution_count": null,
   "id": "b6f17110-c053-4bc8-b25e-2f0e42d20ec3",
   "metadata": {},
   "outputs": [],
   "source": []
  },
  {
   "cell_type": "code",
   "execution_count": null,
   "id": "b5589942-3f43-492b-973f-c9adac6a18b1",
   "metadata": {},
   "outputs": [],
   "source": []
  },
  {
   "cell_type": "code",
   "execution_count": null,
   "id": "8500d992-3303-4023-812a-ce777da64ef0",
   "metadata": {},
   "outputs": [],
   "source": []
  }
 ],
 "metadata": {
  "kernelspec": {
   "display_name": "Python 3 (ipykernel)",
   "language": "python",
   "name": "python3"
  },
  "language_info": {
   "codemirror_mode": {
    "name": "ipython",
    "version": 3
   },
   "file_extension": ".py",
   "mimetype": "text/x-python",
   "name": "python",
   "nbconvert_exporter": "python",
   "pygments_lexer": "ipython3",
   "version": "3.7.8"
  }
 },
 "nbformat": 4,
 "nbformat_minor": 5
}
