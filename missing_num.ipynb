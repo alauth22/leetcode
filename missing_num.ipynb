{
 "cells": [
  {
   "cell_type": "code",
   "execution_count": null,
   "id": "57705558-32ff-4cf6-b3b9-036e24e843ee",
   "metadata": {},
   "outputs": [],
   "source": []
  },
  {
   "cell_type": "code",
   "execution_count": 13,
   "id": "803ad9bb-5509-4c32-aa9a-00e4a86aea94",
   "metadata": {},
   "outputs": [],
   "source": [
    "def missing_num(nums):\n",
    "    range_lst = range(0, len(nums) + 1)\n",
    "    \n",
    "    for char in range_lst:\n",
    "        if char not in nums:\n",
    "            return char    \n",
    "    return \n",
    "        "
   ]
  },
  {
   "cell_type": "code",
   "execution_count": 14,
   "id": "78edc47a-d251-4a2e-9259-7e74a61d7f7e",
   "metadata": {},
   "outputs": [
    {
     "data": {
      "text/plain": [
       "2"
      ]
     },
     "execution_count": 14,
     "metadata": {},
     "output_type": "execute_result"
    }
   ],
   "source": [
    "missing_num([3,0,1])"
   ]
  },
  {
   "cell_type": "code",
   "execution_count": 12,
   "id": "9ce67499-a7f6-4a7f-ad4b-adba66e1fcf4",
   "metadata": {},
   "outputs": [
    {
     "name": "stdout",
     "output_type": "stream",
     "text": [
      "2\n"
     ]
    }
   ],
   "source": [
    "nums = [3,0,1]\n",
    "range_lst = range(0, len(nums) + 1)\n",
    "for char in range_lst:\n",
    "    # print(char)\n",
    "    if char not in nums:\n",
    "        print(char)"
   ]
  },
  {
   "cell_type": "code",
   "execution_count": null,
   "id": "f1fd7710-f0e1-45e3-ac1f-26f9a34c245a",
   "metadata": {},
   "outputs": [],
   "source": []
  }
 ],
 "metadata": {
  "kernelspec": {
   "display_name": "Python 3 (ipykernel)",
   "language": "python",
   "name": "python3"
  },
  "language_info": {
   "codemirror_mode": {
    "name": "ipython",
    "version": 3
   },
   "file_extension": ".py",
   "mimetype": "text/x-python",
   "name": "python",
   "nbconvert_exporter": "python",
   "pygments_lexer": "ipython3",
   "version": "3.7.8"
  }
 },
 "nbformat": 4,
 "nbformat_minor": 5
}
