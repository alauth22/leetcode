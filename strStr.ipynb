{
 "cells": [
  {
   "cell_type": "code",
   "execution_count": 1,
   "id": "8ccf733d-d5d1-4f2f-9bbd-783d92812363",
   "metadata": {},
   "outputs": [],
   "source": []
  },
  {
   "cell_type": "code",
   "execution_count": 9,
   "id": "29ea1daf-87d6-4f23-b3b9-63fbc72abce0",
   "metadata": {},
   "outputs": [
    {
     "name": "stdout",
     "output_type": "stream",
     "text": [
      "h\n",
      "e\n",
      "l\n",
      "l\n",
      "o\n",
      "-2\n"
     ]
    }
   ],
   "source": [
    "haystack = \"hello\"\n",
    "needle = \"ll\"\n",
    "count = 0\n",
    "\n",
    "for i in haystack:\n",
    "    print(i)\n",
    "    for j in needle:\n",
    "        # print(j)\n",
    "        if i == j:\n",
    "            count += 1\n",
    "        else:\n",
    "            count -= 1\n",
    "print(count)\n",
    "    "
   ]
  },
  {
   "cell_type": "code",
   "execution_count": 11,
   "id": "efdda716-21d9-480a-9512-65ef25f5429d",
   "metadata": {},
   "outputs": [
    {
     "name": "stdout",
     "output_type": "stream",
     "text": [
      "1\n"
     ]
    }
   ],
   "source": [
    "haystack = \"hello\"\n",
    "needle = \"ll\"\n",
    "count = 0\n",
    "\n",
    "if needle in haystack:\n",
    "    count += 1\n",
    "print(count)\n"
   ]
  },
  {
   "cell_type": "code",
   "execution_count": 12,
   "id": "81ae1fe6-a99d-400d-b0ff-5828a9813cb4",
   "metadata": {},
   "outputs": [
    {
     "name": "stdout",
     "output_type": "stream",
     "text": [
      "2\n"
     ]
    }
   ],
   "source": [
    "haystack = \"hello\"\n",
    "needle = \"ll\"\n",
    "count = 0\n",
    "\n",
    "for j in needle:\n",
    "    if j in haystack:\n",
    "        count += 1\n",
    "print(count)"
   ]
  },
  {
   "cell_type": "code",
   "execution_count": 13,
   "id": "5400593f-2695-43c6-bd74-0d5e55ba94b3",
   "metadata": {},
   "outputs": [
    {
     "name": "stdout",
     "output_type": "stream",
     "text": [
      "-1\n"
     ]
    }
   ],
   "source": [
    "haystack = \"aaaaa\"\n",
    "needle = \"bba\"\n",
    "count = 0\n",
    "\n",
    "for j in needle:\n",
    "    if j in haystack:\n",
    "        count += 1\n",
    "    else:\n",
    "        count -= 1\n",
    "print(count)"
   ]
  },
  {
   "cell_type": "code",
   "execution_count": 16,
   "id": "9cbb4dcc-a06a-4423-a891-c4c3091aa43d",
   "metadata": {},
   "outputs": [
    {
     "name": "stdout",
     "output_type": "stream",
     "text": [
      "0\n"
     ]
    }
   ],
   "source": [
    "haystack = \"a\"\n",
    "needle = \"a\"\n",
    "count = 0\n",
    "\n",
    "if needle == haystack or needle == \" \":\n",
    "    count = 0\n",
    "    \n",
    "else: \n",
    "    for j in needle:\n",
    "        if j in haystack:\n",
    "            count += 1\n",
    "        else:\n",
    "            count -= 1\n",
    "            \n",
    "print(count)"
   ]
  },
  {
   "cell_type": "code",
   "execution_count": 18,
   "id": "de4c74e5-7beb-4972-a8cb-62b07a93850d",
   "metadata": {},
   "outputs": [],
   "source": [
    "def strStr(haystack, needle):\n",
    "    count = 0\n",
    "    if needle == haystack or needle == \" \":\n",
    "        count = 0\n",
    "\n",
    "    else: \n",
    "        for j in needle:\n",
    "            if j in haystack:\n",
    "                count += 1\n",
    "            else:\n",
    "                count -= 1\n",
    "    \n",
    "    return count \n"
   ]
  },
  {
   "cell_type": "code",
   "execution_count": 19,
   "id": "b94cc14e-38bf-4769-b4e3-c00983966af7",
   "metadata": {},
   "outputs": [
    {
     "data": {
      "text/plain": [
       "0"
      ]
     },
     "execution_count": 19,
     "metadata": {},
     "output_type": "execute_result"
    }
   ],
   "source": [
    "strStr(\"a\", \"a\")"
   ]
  },
  {
   "cell_type": "code",
   "execution_count": 20,
   "id": "8bca04e9-c8c6-4fb7-98b4-0f19a3f422e4",
   "metadata": {},
   "outputs": [
    {
     "data": {
      "text/plain": [
       "-1"
      ]
     },
     "execution_count": 20,
     "metadata": {},
     "output_type": "execute_result"
    }
   ],
   "source": [
    "strStr(\"aaaa\", \"bba\")"
   ]
  },
  {
   "cell_type": "code",
   "execution_count": 21,
   "id": "ae6eb4e1-7a82-4213-81b3-61e33ab73dec",
   "metadata": {},
   "outputs": [
    {
     "data": {
      "text/plain": [
       "2"
      ]
     },
     "execution_count": 21,
     "metadata": {},
     "output_type": "execute_result"
    }
   ],
   "source": [
    "strStr(\"hello\", \"ll\")"
   ]
  },
  {
   "cell_type": "code",
   "execution_count": 22,
   "id": "11fb3da7-8ca5-459e-aa23-cb917fb03fde",
   "metadata": {},
   "outputs": [
    {
     "data": {
      "text/plain": [
       "1"
      ]
     },
     "execution_count": 22,
     "metadata": {},
     "output_type": "execute_result"
    }
   ],
   "source": [
    "strStr(\"abc\", \"c\")"
   ]
  },
  {
   "cell_type": "code",
   "execution_count": null,
   "id": "ade13287-1925-452b-9d5a-500aa472b7a7",
   "metadata": {},
   "outputs": [],
   "source": [
    "haystack = \"a\"\n",
    "needle = \"a\"\n",
    "\n",
    "for i, char_01 in enumerate(haystack):\n",
    "    for j, char_02 in enumerate(needle):\n",
    "        if nee"
   ]
  },
  {
   "cell_type": "code",
   "execution_count": null,
   "id": "eafd0740-da67-4c80-be80-5b45e5a29a74",
   "metadata": {},
   "outputs": [],
   "source": []
  },
  {
   "cell_type": "code",
   "execution_count": 34,
   "id": "c76fd877-b20a-4e8c-89b3-b703756358e3",
   "metadata": {},
   "outputs": [
    {
     "name": "stdout",
     "output_type": "stream",
     "text": [
      "<class 'list'>\n"
     ]
    },
    {
     "data": {
      "text/plain": [
       "'h'"
      ]
     },
     "execution_count": 34,
     "metadata": {},
     "output_type": "execute_result"
    }
   ],
   "source": [
    "test = \"hello\"\n",
    "test_lst = list(test)\n",
    "print(type(test_lst))\n",
    "test_lst[0]"
   ]
  },
  {
   "cell_type": "code",
   "execution_count": 65,
   "id": "6a7b325e-d0a8-42f3-bfa8-bb0598caaee9",
   "metadata": {},
   "outputs": [],
   "source": [
    "def string_fun(haystack, needle):\n",
    "    \n",
    "    #need to convert the strings to lists\n",
    "    haystack_lst = list(haystack) \n",
    "    needle_lst = list(needle)\n",
    "    first_needle = [needle_lst[0]]\n",
    "    \n",
    "    for index, char in enumerate(haystack_lst):\n",
    "        if haystack_lst[index] == first_needle:\n",
    "            return index\n",
    "        else:\n",
    "            return -1 \n",
    "    return \n",
    "    "
   ]
  },
  {
   "cell_type": "code",
   "execution_count": 66,
   "id": "85399ad8-09c8-4512-a9ee-ff91f1bd1977",
   "metadata": {},
   "outputs": [
    {
     "data": {
      "text/plain": [
       "-1"
      ]
     },
     "execution_count": 66,
     "metadata": {},
     "output_type": "execute_result"
    }
   ],
   "source": [
    "string_fun(\"hello\", \"ll\")"
   ]
  },
  {
   "cell_type": "code",
   "execution_count": 44,
   "id": "5c3079c4-aa9a-4ebd-8c92-da3320ca3920",
   "metadata": {},
   "outputs": [],
   "source": [
    "haystack = \"hello\"\n",
    "needle = \"ll\""
   ]
  },
  {
   "cell_type": "code",
   "execution_count": null,
   "id": "7ae8ab2c-957e-47e9-9ef5-ff23d05889c9",
   "metadata": {},
   "outputs": [],
   "source": []
  },
  {
   "cell_type": "code",
   "execution_count": null,
   "id": "0cb8b370-4cc0-45a1-81a9-0bd26627205d",
   "metadata": {},
   "outputs": [],
   "source": []
  },
  {
   "cell_type": "code",
   "execution_count": 64,
   "id": "805c08e4-ba9a-41dc-be0c-7776bfa89b5c",
   "metadata": {},
   "outputs": [
    {
     "name": "stdout",
     "output_type": "stream",
     "text": [
      "a\n",
      "['a']\n",
      "['a']\n"
     ]
    }
   ],
   "source": [
    "test = \"amelia\"\n",
    "test_lst = list(test)\n",
    "test_lst\n",
    "print(test_lst[0])\n",
    "print([test_lst[0]])\n",
    "print(list(test_lst[0]))"
   ]
  },
  {
   "cell_type": "code",
   "execution_count": 80,
   "id": "fac913e7-8f90-4eee-b4cd-74c11f9700a4",
   "metadata": {},
   "outputs": [],
   "source": [
    "haystack = \"hello\"\n",
    "needle = \"ll\""
   ]
  },
  {
   "cell_type": "code",
   "execution_count": 85,
   "id": "4bbf3eb9-a671-40db-a862-71efdeb922ab",
   "metadata": {},
   "outputs": [
    {
     "data": {
      "text/plain": [
       "2"
      ]
     },
     "execution_count": 85,
     "metadata": {},
     "output_type": "execute_result"
    }
   ],
   "source": [
    "haystack_lst = list(haystack)\n",
    "haystack_lst.index(\"l\")"
   ]
  },
  {
   "cell_type": "code",
   "execution_count": 141,
   "id": "e60b7e40-d8d4-48a8-8463-fec47b50d77d",
   "metadata": {},
   "outputs": [],
   "source": [
    "def string_test(haystack, needle):\n",
    "    #this one worked!\n",
    "    if needle == \"\":\n",
    "        return -1 \n",
    "    elif len(needle) > len(haystack):\n",
    "        return -1\n",
    "    else:\n",
    "        \n",
    "        #will find the first occurence of a substring in a master string and will return that index. \n",
    "        return haystack.find(needle)\n",
    "    \n",
    "    return \n",
    "       "
   ]
  },
  {
   "cell_type": "code",
   "execution_count": 133,
   "id": "3aeca9f6-91d5-4d27-8640-864a51cdd23b",
   "metadata": {},
   "outputs": [
    {
     "data": {
      "text/plain": [
       "2"
      ]
     },
     "execution_count": 133,
     "metadata": {},
     "output_type": "execute_result"
    }
   ],
   "source": [
    "string_test(\"hello\", \"ll\")"
   ]
  },
  {
   "cell_type": "code",
   "execution_count": 134,
   "id": "ec8514d2-dbdb-47e4-a4a7-434a3b1a365f",
   "metadata": {},
   "outputs": [
    {
     "data": {
      "text/plain": [
       "-1"
      ]
     },
     "execution_count": 134,
     "metadata": {},
     "output_type": "execute_result"
    }
   ],
   "source": [
    "string_test(\"amelia\", \"bb\")"
   ]
  },
  {
   "cell_type": "code",
   "execution_count": 135,
   "id": "63988d05-25fa-47a0-9acb-64f3d3740c4e",
   "metadata": {},
   "outputs": [
    {
     "data": {
      "text/plain": [
       "0"
      ]
     },
     "execution_count": 135,
     "metadata": {},
     "output_type": "execute_result"
    }
   ],
   "source": [
    "string_test(\"a\", \"a\")"
   ]
  },
  {
   "cell_type": "code",
   "execution_count": 136,
   "id": "d998402b-3d5e-4e25-970a-e0b4a6a0f72f",
   "metadata": {},
   "outputs": [
    {
     "data": {
      "text/plain": [
       "2"
      ]
     },
     "execution_count": 136,
     "metadata": {},
     "output_type": "execute_result"
    }
   ],
   "source": [
    "string_test(\"abc\", \"c\")"
   ]
  },
  {
   "cell_type": "code",
   "execution_count": 137,
   "id": "551610e0-afcd-4a9b-ab3a-551e66db7a99",
   "metadata": {},
   "outputs": [
    {
     "data": {
      "text/plain": [
       "-1"
      ]
     },
     "execution_count": 137,
     "metadata": {},
     "output_type": "execute_result"
    }
   ],
   "source": [
    "string_test(\"aaa\", \"aaaa\")"
   ]
  },
  {
   "cell_type": "code",
   "execution_count": 139,
   "id": "756005ed-de94-47d1-aeda-e28b3393b4f9",
   "metadata": {},
   "outputs": [
    {
     "data": {
      "text/plain": [
       "-1"
      ]
     },
     "execution_count": 139,
     "metadata": {},
     "output_type": "execute_result"
    }
   ],
   "source": [
    "string_test(\"aaa\", \"\")"
   ]
  },
  {
   "cell_type": "code",
   "execution_count": null,
   "id": "b04af210-361d-4eb8-839d-6595097717a5",
   "metadata": {},
   "outputs": [],
   "source": []
  },
  {
   "cell_type": "code",
   "execution_count": null,
   "id": "297a0af1-450a-4ece-a74f-dba5bd84063c",
   "metadata": {},
   "outputs": [],
   "source": []
  }
 ],
 "metadata": {
  "kernelspec": {
   "display_name": "Python 3 (ipykernel)",
   "language": "python",
   "name": "python3"
  },
  "language_info": {
   "codemirror_mode": {
    "name": "ipython",
    "version": 3
   },
   "file_extension": ".py",
   "mimetype": "text/x-python",
   "name": "python",
   "nbconvert_exporter": "python",
   "pygments_lexer": "ipython3",
   "version": "3.7.8"
  }
 },
 "nbformat": 4,
 "nbformat_minor": 5
}
