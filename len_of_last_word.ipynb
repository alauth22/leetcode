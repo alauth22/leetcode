{
 "cells": [
  {
   "cell_type": "code",
   "execution_count": 8,
   "id": "7c3f7959-3de4-4061-8c8b-daafe84fb3ac",
   "metadata": {},
   "outputs": [
    {
     "name": "stdout",
     "output_type": "stream",
     "text": [
      "['luffy', 'is', 'still', 'joyboy']\n",
      "joyboy\n",
      "<class 'str'>\n"
     ]
    }
   ],
   "source": [
    "string = \"luffy is still joyboy\"\n",
    "\n",
    "split_string = string.split()\n",
    "print(split_string)\n",
    "last_word = split_string[-1]\n",
    "print(last_word)\n",
    "print(type(last_word))\n",
    "\n",
    "final = \" \".join(last_word)\n",
    "# print(final)\n",
    "# print(len(final))\n"
   ]
  },
  {
   "cell_type": "code",
   "execution_count": 7,
   "id": "2090c277-7f1c-4e7d-93bf-755f0879c201",
   "metadata": {},
   "outputs": [
    {
     "data": {
      "text/plain": [
       "'World'"
      ]
     },
     "execution_count": 7,
     "metadata": {},
     "output_type": "execute_result"
    }
   ],
   "source": [
    "string[6:]"
   ]
  },
  {
   "cell_type": "code",
   "execution_count": 9,
   "id": "c77b7aff-d9d4-4608-bd76-deb5449b66dd",
   "metadata": {},
   "outputs": [],
   "source": [
    "def length_of_last_word(string):\n",
    "    split_string = string.split()\n",
    "    last_word = split_string[-1]\n",
    "    return len(last_word)\n",
    "    "
   ]
  },
  {
   "cell_type": "code",
   "execution_count": 10,
   "id": "65de1146-32f1-49ac-9e80-1c2bd1767a20",
   "metadata": {},
   "outputs": [
    {
     "data": {
      "text/plain": [
       "6"
      ]
     },
     "execution_count": 10,
     "metadata": {},
     "output_type": "execute_result"
    }
   ],
   "source": [
    "length_of_last_word(\"luffy is still joyboy\")"
   ]
  },
  {
   "cell_type": "code",
   "execution_count": null,
   "id": "80936549-711b-4058-a735-c4960af9cf23",
   "metadata": {},
   "outputs": [],
   "source": []
  },
  {
   "cell_type": "code",
   "execution_count": null,
   "id": "0180c5c0-647d-4084-9f97-d6403a14da7b",
   "metadata": {},
   "outputs": [],
   "source": []
  },
  {
   "cell_type": "code",
   "execution_count": null,
   "id": "22918717-2661-4f40-a74d-a569bdbf847d",
   "metadata": {},
   "outputs": [],
   "source": []
  }
 ],
 "metadata": {
  "kernelspec": {
   "display_name": "Python 3 (ipykernel)",
   "language": "python",
   "name": "python3"
  },
  "language_info": {
   "codemirror_mode": {
    "name": "ipython",
    "version": 3
   },
   "file_extension": ".py",
   "mimetype": "text/x-python",
   "name": "python",
   "nbconvert_exporter": "python",
   "pygments_lexer": "ipython3",
   "version": "3.7.8"
  }
 },
 "nbformat": 4,
 "nbformat_minor": 5
}
