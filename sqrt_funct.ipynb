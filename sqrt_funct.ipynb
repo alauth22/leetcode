{
 "cells": [
  {
   "cell_type": "code",
   "execution_count": 10,
   "id": "f2b6412b-043f-4c19-8388-ddfc2aa03485",
   "metadata": {},
   "outputs": [],
   "source": [
    "def sqrt_function(num):\n",
    "    import math\n",
    "    x = math.sqrt(num)\n",
    "    x_final = int(x)\n",
    "    return x_final\n"
   ]
  },
  {
   "cell_type": "code",
   "execution_count": 15,
   "id": "df454943-62ef-4d97-b819-f3e60255c4ad",
   "metadata": {},
   "outputs": [
    {
     "data": {
      "text/plain": [
       "14"
      ]
     },
     "execution_count": 15,
     "metadata": {},
     "output_type": "execute_result"
    }
   ],
   "source": [
    "sqrt_function(200)"
   ]
  },
  {
   "cell_type": "code",
   "execution_count": null,
   "id": "e76d1d3f-f206-43aa-8865-7615ccf0e302",
   "metadata": {},
   "outputs": [],
   "source": []
  },
  {
   "cell_type": "code",
   "execution_count": null,
   "id": "4dea7151-08b3-436f-891a-445d64184287",
   "metadata": {},
   "outputs": [],
   "source": []
  },
  {
   "cell_type": "code",
   "execution_count": null,
   "id": "7f6a0b9c-e446-428c-99b3-a84c1c4bd1c1",
   "metadata": {},
   "outputs": [],
   "source": []
  },
  {
   "cell_type": "code",
   "execution_count": null,
   "id": "116b32a3-5d1c-4cfb-846b-9a4ed28cb060",
   "metadata": {},
   "outputs": [],
   "source": []
  },
  {
   "cell_type": "code",
   "execution_count": null,
   "id": "99fa3bcd-c849-4422-98ff-b73176bb540f",
   "metadata": {},
   "outputs": [],
   "source": []
  }
 ],
 "metadata": {
  "kernelspec": {
   "display_name": "Python 3 (ipykernel)",
   "language": "python",
   "name": "python3"
  },
  "language_info": {
   "codemirror_mode": {
    "name": "ipython",
    "version": 3
   },
   "file_extension": ".py",
   "mimetype": "text/x-python",
   "name": "python",
   "nbconvert_exporter": "python",
   "pygments_lexer": "ipython3",
   "version": "3.7.8"
  }
 },
 "nbformat": 4,
 "nbformat_minor": 5
}
