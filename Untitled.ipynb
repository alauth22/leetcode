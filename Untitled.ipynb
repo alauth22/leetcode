{
 "cells": [
  {
   "cell_type": "code",
   "execution_count": 72,
   "id": "1600c5f7-89b6-4dd7-9caa-8292daaa1397",
   "metadata": {},
   "outputs": [],
   "source": [
    "from collections import Counter"
   ]
  },
  {
   "cell_type": "code",
   "execution_count": null,
   "id": "66368c90-0784-452e-8643-388facc7bec8",
   "metadata": {},
   "outputs": [],
   "source": [
    "def repeated_substring(string):\n",
    "    \n",
    "    \n",
    "    \n",
    "    "
   ]
  },
  {
   "cell_type": "code",
   "execution_count": 3,
   "id": "0be92e6a-7ea3-45fc-922a-2a35d45fd86f",
   "metadata": {},
   "outputs": [
    {
     "data": {
      "text/plain": [
       "Counter({'A': 1, 'm': 1, 'e': 1, 'l': 1, 'i': 1, 'a': 1})"
      ]
     },
     "execution_count": 3,
     "metadata": {},
     "output_type": "execute_result"
    }
   ],
   "source": [
    "test = \"Amelia\"\n",
    "Counter(test)"
   ]
  },
  {
   "cell_type": "code",
   "execution_count": 4,
   "id": "8d5d5039-b6e0-4a70-b010-53398acdb49e",
   "metadata": {},
   "outputs": [
    {
     "data": {
      "text/plain": [
       "Counter({'a': 2, 'b': 2})"
      ]
     },
     "execution_count": 4,
     "metadata": {},
     "output_type": "execute_result"
    }
   ],
   "source": [
    "s = \"abab\"\n",
    "Counter(s)"
   ]
  },
  {
   "cell_type": "code",
   "execution_count": 5,
   "id": "1550ef03-366c-4534-9adf-362d26d89a34",
   "metadata": {},
   "outputs": [
    {
     "data": {
      "text/plain": [
       "Counter({'a': 4, 'b': 4, 'c': 4})"
      ]
     },
     "execution_count": 5,
     "metadata": {},
     "output_type": "execute_result"
    }
   ],
   "source": [
    "t = \"abcabcabcabc\"\n",
    "Counter(t)"
   ]
  },
  {
   "cell_type": "code",
   "execution_count": 50,
   "id": "60be0371-bb51-411e-97aa-e8d5d6bb7c4f",
   "metadata": {},
   "outputs": [
    {
     "name": "stdout",
     "output_type": "stream",
     "text": [
      "Counter({'a': 3, 'b': 3, 'c': 3, 'd': 3, 'e': 2})\n",
      "<class 'dict_values'>\n",
      "3\n",
      "3\n",
      "3\n",
      "3\n",
      "2\n"
     ]
    }
   ],
   "source": [
    "x = \"abcdeabcdeabcd\"\n",
    "test_x = Counter(x)\n",
    "print(test_x)\n",
    "# print(test_x.keys())\n",
    "# print(test_x.values())\n",
    "values_x = test_x.values()\n",
    "print(type(values_x))\n",
    "for i in values_x:\n",
    "    print(i)"
   ]
  },
  {
   "cell_type": "code",
   "execution_count": 22,
   "id": "378821d1-7ffb-4ec2-94ee-209721b7b283",
   "metadata": {},
   "outputs": [
    {
     "data": {
      "text/plain": [
       "array([dict_values([3, 3, 3, 3, 2])], dtype=object)"
      ]
     },
     "execution_count": 22,
     "metadata": {},
     "output_type": "execute_result"
    }
   ],
   "source": [
    "import numpy as np\n",
    "values_x\n",
    "np.unique(values_x)"
   ]
  },
  {
   "cell_type": "code",
   "execution_count": null,
   "id": "81f5d8b7-a261-416a-9c0c-c1e5d3e8ab3a",
   "metadata": {},
   "outputs": [],
   "source": []
  },
  {
   "cell_type": "code",
   "execution_count": null,
   "id": "fbfe7206-8035-496c-937f-50d64cc70612",
   "metadata": {},
   "outputs": [],
   "source": []
  },
  {
   "cell_type": "code",
   "execution_count": 23,
   "id": "d4e4e918-838f-44f4-9dc1-161c8292959b",
   "metadata": {},
   "outputs": [],
   "source": [
    "def unique(list1):\n",
    "    x = np.array(list1)\n",
    "    print(np.unique(x))"
   ]
  },
  {
   "cell_type": "code",
   "execution_count": 24,
   "id": "9f7a8776-d40b-4f54-a466-f219464c7c62",
   "metadata": {},
   "outputs": [
    {
     "name": "stdout",
     "output_type": "stream",
     "text": [
      "the unique values from 1st list is\n",
      "[10 20 30 40]\n"
     ]
    }
   ],
   "source": [
    "list1 = [10, 20, 10, 30, 40, 40]\n",
    "print(\"the unique values from 1st list is\")\n",
    "unique(list1)"
   ]
  },
  {
   "cell_type": "code",
   "execution_count": 41,
   "id": "a723cfd4-2d6c-48f0-9590-b59874a3a00d",
   "metadata": {},
   "outputs": [],
   "source": [
    "def repeated_string(string):\n",
    "    \n",
    "    from collections import Counter \n",
    "    \n",
    "    \n",
    "    for index in range(1, len(string)):\n",
    "        if string[index] == string[0]:\n",
    "            return True\n",
    "        else:\n",
    "            return False\n",
    "    return \n",
    "    "
   ]
  },
  {
   "cell_type": "code",
   "execution_count": 42,
   "id": "f4872424-0e9e-4480-ba5e-b029a5bda289",
   "metadata": {},
   "outputs": [
    {
     "data": {
      "text/plain": [
       "False"
      ]
     },
     "execution_count": 42,
     "metadata": {},
     "output_type": "execute_result"
    }
   ],
   "source": [
    "repeated_string(\"abcabcabcabc\")"
   ]
  },
  {
   "cell_type": "code",
   "execution_count": null,
   "id": "76da3d6c-cdab-4636-9d2c-e73212d252cd",
   "metadata": {},
   "outputs": [],
   "source": []
  },
  {
   "cell_type": "code",
   "execution_count": 39,
   "id": "50310aa9-91af-4ef3-b955-c18858c0e59a",
   "metadata": {},
   "outputs": [
    {
     "name": "stdout",
     "output_type": "stream",
     "text": [
      "False\n",
      "False\n",
      "False\n",
      "False\n",
      "True\n"
     ]
    }
   ],
   "source": [
    "string = \"amelia\"\n",
    "for i in range(1, len(string)):\n",
    "    # print(string[i])\n",
    "    # print(string[0])\n",
    "    if string[i] != string[0]:\n",
    "        print(False)\n",
    "    else:\n",
    "        print(True)\n",
    "    "
   ]
  },
  {
   "cell_type": "code",
   "execution_count": 33,
   "id": "6bb78258-49bf-4d85-a96d-b48fa24d0d33",
   "metadata": {},
   "outputs": [
    {
     "name": "stdout",
     "output_type": "stream",
     "text": [
      "0\n",
      "1\n",
      "2\n"
     ]
    }
   ],
   "source": [
    "for i in range(0,3):\n",
    "    print(i)"
   ]
  },
  {
   "cell_type": "code",
   "execution_count": null,
   "id": "d6a01552-6d8e-4e64-8f41-925408ef025f",
   "metadata": {},
   "outputs": [],
   "source": []
  },
  {
   "cell_type": "code",
   "execution_count": 90,
   "id": "ad9baac8-8053-440a-b3eb-7ef53dd31073",
   "metadata": {},
   "outputs": [],
   "source": [
    "def repeated_string(string):\n",
    "    \n",
    "    #if there is only one value in the list. \n",
    "    \n",
    "    if len(string) <= 1:\n",
    "        return False \n",
    "    else:\n",
    "        values_lst = []\n",
    "        string_count = Counter(string)\n",
    "        values_count = string_count.values()\n",
    "        \n",
    "        #need to append all the values from the Counter to the empty list \n",
    "        for v in values_count:\n",
    "            values_lst.append(v)\n",
    "            \n",
    "        if len(values_lst) == 1:\n",
    "            return True \n",
    "        elif len(values_lst) == 0:\n",
    "            return False \n",
    "        else:\n",
    "            for index in range(1, len(values_lst)):\n",
    "                if values_lst[index] == values_lst[0]:\n",
    "                    return True \n",
    "                else:\n",
    "                    return False \n",
    "        return \n",
    "\n",
    "    "
   ]
  },
  {
   "cell_type": "code",
   "execution_count": 91,
   "id": "2776d389-d759-48c3-9fd1-453a637f2960",
   "metadata": {},
   "outputs": [
    {
     "data": {
      "text/plain": [
       "True"
      ]
     },
     "execution_count": 91,
     "metadata": {},
     "output_type": "execute_result"
    }
   ],
   "source": [
    "repeated_string(\"abcabcabcabc\")"
   ]
  },
  {
   "cell_type": "code",
   "execution_count": 92,
   "id": "53f39ba9-a053-4ab5-9854-267cc5b50512",
   "metadata": {},
   "outputs": [
    {
     "data": {
      "text/plain": [
       "True"
      ]
     },
     "execution_count": 92,
     "metadata": {},
     "output_type": "execute_result"
    }
   ],
   "source": [
    "repeated_string(\"abab\")"
   ]
  },
  {
   "cell_type": "code",
   "execution_count": 93,
   "id": "bfc74c6e-b622-49ea-adcf-ca77ff788256",
   "metadata": {},
   "outputs": [
    {
     "data": {
      "text/plain": [
       "True"
      ]
     },
     "execution_count": 93,
     "metadata": {},
     "output_type": "execute_result"
    }
   ],
   "source": [
    "repeated_string(\"aaaa\")"
   ]
  },
  {
   "cell_type": "code",
   "execution_count": 94,
   "id": "dc70112b-2541-4c0c-8140-5fc277f1984d",
   "metadata": {},
   "outputs": [
    {
     "data": {
      "text/plain": [
       "False"
      ]
     },
     "execution_count": 94,
     "metadata": {},
     "output_type": "execute_result"
    }
   ],
   "source": [
    "repeated_string(\"aba\")"
   ]
  },
  {
   "cell_type": "code",
   "execution_count": 95,
   "id": "54e02364-9552-4c51-8296-29329caecb39",
   "metadata": {},
   "outputs": [
    {
     "data": {
      "text/plain": [
       "False"
      ]
     },
     "execution_count": 95,
     "metadata": {},
     "output_type": "execute_result"
    }
   ],
   "source": [
    "repeated_string(\"a\")"
   ]
  },
  {
   "cell_type": "code",
   "execution_count": 96,
   "id": "705174db-ed6f-44d1-8fd3-2d71862b20ab",
   "metadata": {},
   "outputs": [
    {
     "data": {
      "text/plain": [
       "False"
      ]
     },
     "execution_count": 96,
     "metadata": {},
     "output_type": "execute_result"
    }
   ],
   "source": [
    "repeated_string(\" \")"
   ]
  },
  {
   "cell_type": "code",
   "execution_count": 89,
   "id": "91e4d89c-b658-458b-9112-ccd652d275ba",
   "metadata": {},
   "outputs": [
    {
     "data": {
      "text/plain": [
       "6"
      ]
     },
     "execution_count": 89,
     "metadata": {},
     "output_type": "execute_result"
    }
   ],
   "source": [
    "test = \"amelia\"\n",
    "len(test)"
   ]
  },
  {
   "cell_type": "code",
   "execution_count": null,
   "id": "ff21f2e9-ebcf-4b25-83ac-d1cc70c78ce8",
   "metadata": {},
   "outputs": [],
   "source": []
  }
 ],
 "metadata": {
  "kernelspec": {
   "display_name": "Python 3 (ipykernel)",
   "language": "python",
   "name": "python3"
  },
  "language_info": {
   "codemirror_mode": {
    "name": "ipython",
    "version": 3
   },
   "file_extension": ".py",
   "mimetype": "text/x-python",
   "name": "python",
   "nbconvert_exporter": "python",
   "pygments_lexer": "ipython3",
   "version": "3.7.8"
  }
 },
 "nbformat": 4,
 "nbformat_minor": 5
}
