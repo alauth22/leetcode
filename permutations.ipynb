{
 "cells": [
  {
   "cell_type": "code",
   "execution_count": null,
   "id": "52bef5a9-c860-4365-91cd-156546e268d8",
   "metadata": {},
   "outputs": [],
   "source": []
  },
  {
   "cell_type": "code",
   "execution_count": 51,
   "id": "a64cfc43-bcdb-4b0d-8ffd-4108ba1164ce",
   "metadata": {},
   "outputs": [],
   "source": [
    "def permute(nums):\n",
    "    '''\n",
    "    INPUT: nums - list: list of integers to be used for permutations \n",
    "\n",
    "    OUTPUT: list of lists: all permutations of the provided nums list. \n",
    "    \n",
    "    NOTE: use module itertools and function permutations. Recall you can use the combinations function as well. \n",
    "    \n",
    "    '''\n",
    "    \n",
    "    from itertools import permutations\n",
    "    \n",
    "    all_comb = []\n",
    "    lst_object = permutations(nums)\n",
    "    # print(lst_object)\n",
    "    for i in lst_object:\n",
    "        x = list(i)\n",
    "        all_comb.append(x)\n",
    "        \n",
    "    return all_comb"
   ]
  },
  {
   "cell_type": "code",
   "execution_count": 52,
   "id": "899c0f3a-1787-48fe-b5c0-b114c8e8baca",
   "metadata": {},
   "outputs": [
    {
     "data": {
      "text/plain": [
       "[[1, 2, 3], [1, 3, 2], [2, 1, 3], [2, 3, 1], [3, 1, 2], [3, 2, 1]]"
      ]
     },
     "execution_count": 52,
     "metadata": {},
     "output_type": "execute_result"
    }
   ],
   "source": [
    "permute([1,2,3])"
   ]
  },
  {
   "cell_type": "code",
   "execution_count": 53,
   "id": "1f467903-d65c-48c3-9a85-40dff5a8aada",
   "metadata": {},
   "outputs": [
    {
     "data": {
      "text/plain": [
       "[[0, 1], [1, 0]]"
      ]
     },
     "execution_count": 53,
     "metadata": {},
     "output_type": "execute_result"
    }
   ],
   "source": [
    "permute([0,1])"
   ]
  },
  {
   "cell_type": "code",
   "execution_count": 54,
   "id": "15b8859c-7a46-49e5-aa69-43aaf3927152",
   "metadata": {},
   "outputs": [
    {
     "data": {
      "text/plain": [
       "[[1]]"
      ]
     },
     "execution_count": 54,
     "metadata": {},
     "output_type": "execute_result"
    }
   ],
   "source": [
    "permute([1])"
   ]
  },
  {
   "cell_type": "code",
   "execution_count": null,
   "id": "ab8bb32a-9760-48ec-bd19-c276dfa21cc6",
   "metadata": {},
   "outputs": [],
   "source": []
  },
  {
   "cell_type": "code",
   "execution_count": 26,
   "id": "10d92d33-2765-42b1-987b-9f6931547c20",
   "metadata": {},
   "outputs": [
    {
     "name": "stdout",
     "output_type": "stream",
     "text": [
      "[(1, 2, 3), (1, 2, 3), (1, 2, 3), (1, 2, 3)]\n"
     ]
    }
   ],
   "source": [
    "import itertools as it\n",
    "\n",
    "\n",
    "lst_1 = [1,2,3]\n",
    "all_comb = []\n",
    "for i in range(len(lst_1) + 1):\n",
    "    comb_object = it.combinations(lst_1, 3)\n",
    "    comb_list = list(comb_object)\n",
    "    all_comb += comb_list\n",
    "    \n",
    "print(all_comb)\n"
   ]
  },
  {
   "cell_type": "code",
   "execution_count": 31,
   "id": "4a520615-aa9f-4055-9594-26909a1aa162",
   "metadata": {},
   "outputs": [
    {
     "name": "stdout",
     "output_type": "stream",
     "text": [
      "[(1, 2), (1, 3), (2, 3)]\n"
     ]
    }
   ],
   "source": [
    "from itertools import combinations\n",
    "lst_2 = [1,2,3]\n",
    "\n",
    "x = combinations(lst_2, 2)\n",
    "print(list(x))\n"
   ]
  },
  {
   "cell_type": "code",
   "execution_count": null,
   "id": "74ea9c79-57dd-409f-8cde-b364d4f84937",
   "metadata": {},
   "outputs": [],
   "source": [
    "#this is a difference between combination and permutation: combintion is selecting the elements from a collection. \n",
    "#Permutation is a method of arranging all members in order.\n"
   ]
  },
  {
   "cell_type": "code",
   "execution_count": 32,
   "id": "7109693e-6570-4aec-98a0-d0ef808bcacd",
   "metadata": {},
   "outputs": [
    {
     "name": "stdout",
     "output_type": "stream",
     "text": [
      "[(1, 2, 3), (1, 3, 2), (2, 1, 3), (2, 3, 1), (3, 1, 2), (3, 2, 1)]\n"
     ]
    }
   ],
   "source": [
    "from itertools import permutations\n",
    "lst_3 = [1,2,3]\n",
    "\n",
    "x = permutations(lst_3, 3)\n",
    "print(list(x))\n"
   ]
  },
  {
   "cell_type": "code",
   "execution_count": null,
   "id": "f6f21fa8-dec6-4f94-99e0-9cb2dac58c3f",
   "metadata": {},
   "outputs": [],
   "source": []
  }
 ],
 "metadata": {
  "kernelspec": {
   "display_name": "Python 3 (ipykernel)",
   "language": "python",
   "name": "python3"
  },
  "language_info": {
   "codemirror_mode": {
    "name": "ipython",
    "version": 3
   },
   "file_extension": ".py",
   "mimetype": "text/x-python",
   "name": "python",
   "nbconvert_exporter": "python",
   "pygments_lexer": "ipython3",
   "version": "3.7.8"
  }
 },
 "nbformat": 4,
 "nbformat_minor": 5
}
