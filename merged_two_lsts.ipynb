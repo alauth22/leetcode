{
 "cells": [
  {
   "cell_type": "code",
   "execution_count": null,
   "id": "c1ebf4d9-6e7f-4a4a-9ce6-9435a1e9d476",
   "metadata": {},
   "outputs": [],
   "source": []
  },
  {
   "cell_type": "code",
   "execution_count": 1,
   "id": "0c2ea975-0cdc-4fa3-b185-86b4b49b7008",
   "metadata": {},
   "outputs": [],
   "source": [
    "lst_1 = [1,2,4]\n",
    "lst_2 = [1,3,4]"
   ]
  },
  {
   "cell_type": "code",
   "execution_count": 5,
   "id": "59a3da7c-3d90-474c-b5a4-ce57d4852f84",
   "metadata": {},
   "outputs": [
    {
     "data": {
      "text/plain": [
       "'[1, 2, 4]'"
      ]
     },
     "execution_count": 5,
     "metadata": {},
     "output_type": "execute_result"
    }
   ],
   "source": [
    "str_1 = str(lst_1)\n",
    "str_1"
   ]
  },
  {
   "cell_type": "code",
   "execution_count": 7,
   "id": "76bde2b6-9a6c-4e80-ad55-1b7adedd18ec",
   "metadata": {},
   "outputs": [
    {
     "data": {
      "text/plain": [
       "'[1, 3, 4]'"
      ]
     },
     "execution_count": 7,
     "metadata": {},
     "output_type": "execute_result"
    }
   ],
   "source": [
    "str_2 = str(lst_2)\n",
    "str_2"
   ]
  },
  {
   "cell_type": "code",
   "execution_count": 9,
   "id": "61e788ff-9559-44b8-a496-9dab27a3c5b6",
   "metadata": {},
   "outputs": [],
   "source": [
    "for val in lst_1:\n",
    "    lst_2.append(val)\n",
    "    "
   ]
  },
  {
   "cell_type": "code",
   "execution_count": 12,
   "id": "60a213f4-b62c-4b76-b084-a7c63766d66e",
   "metadata": {},
   "outputs": [
    {
     "data": {
      "text/plain": [
       "[1, 1, 2, 3, 4, 4]"
      ]
     },
     "execution_count": 12,
     "metadata": {},
     "output_type": "execute_result"
    }
   ],
   "source": [
    "final = sorted(lst_2)\n",
    "final"
   ]
  },
  {
   "cell_type": "code",
   "execution_count": 23,
   "id": "6a49bd31-30a6-498d-b942-a5478330231e",
   "metadata": {},
   "outputs": [],
   "source": [
    "def merged_lists(list_1, list_2):\n",
    "    '''\n",
    "    INPUT: list_1 and list_2 lists. \n",
    "     \n",
    "    OUTPUT: one final list with combined values and sorted. \n",
    "\n",
    "    '''\n",
    "    #iterate through one list and append it to the other list. \n",
    "    for val in list_1:\n",
    "        list_2.append(val) \n",
    "    \n",
    "    final_list = sorted(list_2)\n",
    "    \n",
    "    return final_list \n",
    "    "
   ]
  },
  {
   "cell_type": "code",
   "execution_count": 24,
   "id": "5561b3e9-974a-4a31-a394-c0dcdc6e8946",
   "metadata": {},
   "outputs": [
    {
     "data": {
      "text/plain": [
       "[1, 1, 2, 3, 4, 4]"
      ]
     },
     "execution_count": 24,
     "metadata": {},
     "output_type": "execute_result"
    }
   ],
   "source": [
    "merged_lists([1,2,4],[1,3,4]) "
   ]
  },
  {
   "cell_type": "code",
   "execution_count": 25,
   "id": "e2985f59-a7a2-40ba-993a-2ef31b379ec3",
   "metadata": {},
   "outputs": [
    {
     "data": {
      "text/plain": [
       "[0]"
      ]
     },
     "execution_count": 25,
     "metadata": {},
     "output_type": "execute_result"
    }
   ],
   "source": [
    "merged_lists([],[0]) "
   ]
  },
  {
   "cell_type": "code",
   "execution_count": null,
   "id": "59db6e1a-6838-4b2a-98d7-066d198abba9",
   "metadata": {},
   "outputs": [],
   "source": []
  }
 ],
 "metadata": {
  "kernelspec": {
   "display_name": "Python 3 (ipykernel)",
   "language": "python",
   "name": "python3"
  },
  "language_info": {
   "codemirror_mode": {
    "name": "ipython",
    "version": 3
   },
   "file_extension": ".py",
   "mimetype": "text/x-python",
   "name": "python",
   "nbconvert_exporter": "python",
   "pygments_lexer": "ipython3",
   "version": "3.7.8"
  }
 },
 "nbformat": 4,
 "nbformat_minor": 5
}
