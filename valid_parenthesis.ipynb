{
 "cells": [
  {
   "cell_type": "code",
   "execution_count": 34,
   "id": "9f92a3df-0274-4dac-93ae-36b180758584",
   "metadata": {},
   "outputs": [],
   "source": [
    "def valid_parenth(s):\n",
    "    \n",
    "    #need to loop through the each character of the string and compare it to the next character. \n",
    "    \n",
    "    for index, char in enumerate(s):\n",
    "        if s[index] == \"(\":\n",
    "            if s[index + 1] == \"]\" or s[index + 1] == \"}\":\n",
    "                return False  \n",
    "            else:\n",
    "                continue  \n",
    "        if s[index] == \"[\":\n",
    "            if s[index + 1] == \")\" or s[index + 1] == \"}\":\n",
    "                return False  \n",
    "            else:\n",
    "                continue \n",
    "        if s[index] == \"{\":\n",
    "            if s[index + 1] == \")\" or s[index + 1] == \"]\":\n",
    "                return False \n",
    "            else:\n",
    "                continue\n",
    "    return True\n",
    "    "
   ]
  },
  {
   "cell_type": "code",
   "execution_count": 38,
   "id": "b76630d3-0edc-44a4-8e17-2de877445f33",
   "metadata": {},
   "outputs": [
    {
     "data": {
      "text/plain": [
       "True"
      ]
     },
     "execution_count": 38,
     "metadata": {},
     "output_type": "execute_result"
    }
   ],
   "source": [
    "valid_parenth(\"()\")"
   ]
  },
  {
   "cell_type": "code",
   "execution_count": 39,
   "id": "0b126220-3930-42b6-b18f-423c6576a9cc",
   "metadata": {},
   "outputs": [
    {
     "data": {
      "text/plain": [
       "True"
      ]
     },
     "execution_count": 39,
     "metadata": {},
     "output_type": "execute_result"
    }
   ],
   "source": [
    "valid_parenth(\"[]\")"
   ]
  },
  {
   "cell_type": "code",
   "execution_count": 40,
   "id": "c36a1b39-1f14-48a1-a653-9539d9c57b5b",
   "metadata": {},
   "outputs": [
    {
     "data": {
      "text/plain": [
       "False"
      ]
     },
     "execution_count": 40,
     "metadata": {},
     "output_type": "execute_result"
    }
   ],
   "source": [
    "valid_parenth(\"()[]{)\")"
   ]
  },
  {
   "cell_type": "code",
   "execution_count": 41,
   "id": "a483ad5a-bcb0-408b-aa95-ae339b30761c",
   "metadata": {},
   "outputs": [
    {
     "data": {
      "text/plain": [
       "False"
      ]
     },
     "execution_count": 41,
     "metadata": {},
     "output_type": "execute_result"
    }
   ],
   "source": [
    "valid_parenth(\"[)\")"
   ]
  },
  {
   "cell_type": "code",
   "execution_count": 42,
   "id": "8d9fc4ec-9035-4616-8ada-3274c5676276",
   "metadata": {},
   "outputs": [
    {
     "data": {
      "text/plain": [
       "True"
      ]
     },
     "execution_count": 42,
     "metadata": {},
     "output_type": "execute_result"
    }
   ],
   "source": [
    "valid_parenth(\"()[]{}\")"
   ]
  },
  {
   "cell_type": "code",
   "execution_count": 43,
   "id": "841e008e-6d99-481e-ad53-fa7087d4e5ed",
   "metadata": {},
   "outputs": [
    {
     "data": {
      "text/plain": [
       "False"
      ]
     },
     "execution_count": 43,
     "metadata": {},
     "output_type": "execute_result"
    }
   ],
   "source": [
    "valid_parenth(\"(]\")"
   ]
  },
  {
   "cell_type": "code",
   "execution_count": 44,
   "id": "074ad5e2-666b-40c3-a587-4470c59edced",
   "metadata": {},
   "outputs": [
    {
     "data": {
      "text/plain": [
       "True"
      ]
     },
     "execution_count": 44,
     "metadata": {},
     "output_type": "execute_result"
    }
   ],
   "source": [
    "valid_parenth(\"([])\")"
   ]
  },
  {
   "cell_type": "code",
   "execution_count": null,
   "id": "d15763f5-29c0-42c4-8024-ca4c40efdead",
   "metadata": {},
   "outputs": [],
   "source": []
  },
  {
   "cell_type": "code",
   "execution_count": null,
   "id": "a6edc870-4659-4e0f-87b6-a0267fb9705c",
   "metadata": {},
   "outputs": [],
   "source": []
  }
 ],
 "metadata": {
  "kernelspec": {
   "display_name": "Python 3 (ipykernel)",
   "language": "python",
   "name": "python3"
  },
  "language_info": {
   "codemirror_mode": {
    "name": "ipython",
    "version": 3
   },
   "file_extension": ".py",
   "mimetype": "text/x-python",
   "name": "python",
   "nbconvert_exporter": "python",
   "pygments_lexer": "ipython3",
   "version": "3.7.8"
  }
 },
 "nbformat": 4,
 "nbformat_minor": 5
}
