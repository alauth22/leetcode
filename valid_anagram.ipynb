{
 "cells": [
  {
   "cell_type": "code",
   "execution_count": 2,
   "id": "97be086d-8ba8-45c4-a4cd-cfccff699a8e",
   "metadata": {},
   "outputs": [],
   "source": [
    "from collections import Counter"
   ]
  },
  {
   "cell_type": "code",
   "execution_count": 3,
   "id": "1600b1b4-1a99-45aa-a3c1-b3edc1df5224",
   "metadata": {},
   "outputs": [],
   "source": [
    "s = \"anagram\" \n",
    "t = \"nagaram\""
   ]
  },
  {
   "cell_type": "code",
   "execution_count": 4,
   "id": "043584c9-51e6-4760-aae7-8e532251ed31",
   "metadata": {},
   "outputs": [
    {
     "data": {
      "text/plain": [
       "Counter({'a': 3, 'n': 1, 'g': 1, 'r': 1, 'm': 1})"
      ]
     },
     "execution_count": 4,
     "metadata": {},
     "output_type": "execute_result"
    }
   ],
   "source": [
    "test1 = Counter(s)\n",
    "test1"
   ]
  },
  {
   "cell_type": "code",
   "execution_count": 5,
   "id": "015ac560-bf3b-4306-b050-365d2c5fb13e",
   "metadata": {},
   "outputs": [
    {
     "data": {
      "text/plain": [
       "Counter({'n': 1, 'a': 3, 'g': 1, 'r': 1, 'm': 1})"
      ]
     },
     "execution_count": 5,
     "metadata": {},
     "output_type": "execute_result"
    }
   ],
   "source": [
    "test2 = Counter(t)\n",
    "test2"
   ]
  },
  {
   "cell_type": "code",
   "execution_count": 10,
   "id": "e6666250-e702-4785-93c9-f9262b7c8ec7",
   "metadata": {},
   "outputs": [],
   "source": [
    "def valid_anagram(s, t):\n",
    "    test1 = Counter(s)\n",
    "    test2 = Counter(t)\n",
    "    \n",
    "    if test1 == test2:\n",
    "        return True \n",
    "    else:\n",
    "        return False \n",
    "    \n",
    "    return \n",
    "    "
   ]
  },
  {
   "cell_type": "code",
   "execution_count": 11,
   "id": "cbfb2e15-7401-4611-a2ce-d970cce4c266",
   "metadata": {},
   "outputs": [
    {
     "data": {
      "text/plain": [
       "True"
      ]
     },
     "execution_count": 11,
     "metadata": {},
     "output_type": "execute_result"
    }
   ],
   "source": [
    "valid_anagram(\"anagram\", \"nagaram\")"
   ]
  },
  {
   "cell_type": "code",
   "execution_count": 12,
   "id": "564ce0ef-8597-4820-a757-68b88419d47e",
   "metadata": {},
   "outputs": [
    {
     "data": {
      "text/plain": [
       "False"
      ]
     },
     "execution_count": 12,
     "metadata": {},
     "output_type": "execute_result"
    }
   ],
   "source": [
    "valid_anagram(\"cat\", \"rat\")"
   ]
  },
  {
   "cell_type": "code",
   "execution_count": 13,
   "id": "d8aa8434-e40f-49a7-b5a9-84819cb777c4",
   "metadata": {},
   "outputs": [
    {
     "data": {
      "text/plain": [
       "False"
      ]
     },
     "execution_count": 13,
     "metadata": {},
     "output_type": "execute_result"
    }
   ],
   "source": [
    "valid_anagram(\"amelia\", \"erika\")"
   ]
  },
  {
   "cell_type": "code",
   "execution_count": null,
   "id": "41f97eb0-09b4-42ac-bf56-6d82bbe8d4a1",
   "metadata": {},
   "outputs": [],
   "source": []
  },
  {
   "cell_type": "code",
   "execution_count": null,
   "id": "09095864-ac72-48c4-b4d6-928266fc1bb9",
   "metadata": {},
   "outputs": [],
   "source": []
  }
 ],
 "metadata": {
  "kernelspec": {
   "display_name": "Python 3 (ipykernel)",
   "language": "python",
   "name": "python3"
  },
  "language_info": {
   "codemirror_mode": {
    "name": "ipython",
    "version": 3
   },
   "file_extension": ".py",
   "mimetype": "text/x-python",
   "name": "python",
   "nbconvert_exporter": "python",
   "pygments_lexer": "ipython3",
   "version": "3.7.8"
  }
 },
 "nbformat": 4,
 "nbformat_minor": 5
}
